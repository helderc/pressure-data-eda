{
 "cells": [
  {
   "cell_type": "code",
   "execution_count": 1,
   "id": "2f1caf40",
   "metadata": {},
   "outputs": [
    {
     "data": {
      "text/plain": [
       "<Figure size 432x288 with 0 Axes>"
      ]
     },
     "metadata": {},
     "output_type": "display_data"
    }
   ],
   "source": [
    "import os\n",
    "from imp import reload\n",
    "import numpy as np\n",
    "import pandas as pd\n",
    "import seaborn as sns\n",
    "import matplotlib as mpl\n",
    "import matplotlib.pyplot as plt\n",
    "\n",
    "import warnings\n",
    "warnings.filterwarnings('ignore')\n",
    "\n",
    "import utils as ut\n",
    "\n",
    "plt.set_cmap(cmap=mpl.cm.gray);\n",
    "mpl.rcParams.update({'font.size': 12});\n",
    "#plt.rcParams['figure.dpi'] = 150"
   ]
  },
  {
   "cell_type": "markdown",
   "id": "c9295b73",
   "metadata": {},
   "source": [
    "# Datasets\n",
    "\n",
    "## PMat"
   ]
  },
  {
   "cell_type": "code",
   "execution_count": 2,
   "id": "370e9858",
   "metadata": {},
   "outputs": [
    {
     "name": "stdout",
     "output_type": "stream",
     "text": [
      "(62, 2048)\n"
     ]
    }
   ],
   "source": [
    "#indexes_supine = [1, 8, 9, 10, 11, 12, 15, 16, 17]\n",
    "indexes_all = np.arange(1,17)\n",
    "\n",
    "subject = 1\n",
    "index = 1\n",
    "fn = 'PmatData/experiment-i/S{}/{}.txt'.format(subject,index)\n",
    "img_csv = np.genfromtxt(fn)\n",
    "\n",
    "# discart first 10 and last 10\n",
    "img_csv = img_csv[10:-10,:]\n",
    "n_frames,_ = img_csv.shape\n",
    "\n",
    "# to get size of the read file\n",
    "print(img_csv.shape)"
   ]
  },
  {
   "cell_type": "code",
   "execution_count": 3,
   "id": "17dd6690",
   "metadata": {},
   "outputs": [],
   "source": [
    "frame_number = 30\n",
    "\n",
    "img_frame, img_bin = ut.get_frame(img_csv, frame_number, dataset='PMat', mask=True, t=0)"
   ]
  },
  {
   "cell_type": "code",
   "execution_count": 4,
   "id": "8dda9405",
   "metadata": {},
   "outputs": [
    {
     "data": {
      "image/png": "[encoded data removed]",
      "text/plain": [
       "<Figure size 360x576 with 1 Axes>"
      ]
     },
     "metadata": {
      "needs_background": "light"
     },
     "output_type": "display_data"
    }
   ],
   "source": [
    "plt.figure(figsize=(5,8))\n",
    "plt.imshow(img_frame)\n",
    "plt.axis('off')\n",
    "plt.savefig(f'pmat_f{frame_number}_orig.png')"
   ]
  },
  {
   "cell_type": "code",
   "execution_count": 5,
   "id": "95e53a48",
   "metadata": {},
   "outputs": [
    {
     "data": {
      "image/png": "[encoded data removed]",
      "text/plain": [
       "<Figure size 360x576 with 1 Axes>"
      ]
     },
     "metadata": {
      "needs_background": "light"
     },
     "output_type": "display_data"
    }
   ],
   "source": [
    "plt.figure(figsize=(5,8))\n",
    "plt.imshow(img_bin)\n",
    "plt.axis('off')\n",
    "plt.savefig(f'pmat_f{frame_number}_bin.png')"
   ]
  },
  {
   "cell_type": "code",
   "execution_count": 6,
   "id": "9ae7941a",
   "metadata": {},
   "outputs": [
    {
     "name": "stderr",
     "output_type": "stream",
     "text": [
      "100%|█████████████████████████████████████████████████████████████████████████████████| 62/62 [00:00<00:00, 273.86it/s]\n",
      "100%|█████████████████████████████████████████████████████████████████████████████████| 62/62 [00:00<00:00, 777.07it/s]\n"
     ]
    }
   ],
   "source": [
    "pts_dict = {}\n",
    "\n",
    "pts_dict['vert'] = ut.frames_medaxis(img_csv, dataset='PMat', axis=0)\n",
    "pts_dict['horiz'] = ut.frames_medaxis(img_csv, dataset='PMat', axis=1)"
   ]
  },
  {
   "cell_type": "code",
   "execution_count": 7,
   "id": "21e367c5",
   "metadata": {},
   "outputs": [
    {
     "data": {
      "image/png": "[encoded data removed]",
      "text/plain": [
       "<Figure size 720x576 with 1 Axes>"
      ]
     },
     "metadata": {
      "needs_background": "light"
     },
     "output_type": "display_data"
    }
   ],
   "source": [
    "pts_vert = pts_dict['vert'][frame_number]\n",
    "pts_horiz = pts_dict['horiz'][frame_number]\n",
    "\n",
    "ut.plot_img_marks(img_frame, dots_v=pts_vert, dots_h=pts_horiz)\n",
    "plt.savefig(f'pmat_f{frame_number}_division')"
   ]
  },
  {
   "cell_type": "code",
   "execution_count": null,
   "id": "21954180",
   "metadata": {},
   "outputs": [],
   "source": []
  }
 ],
 "metadata": {
  "kernelspec": {
   "display_name": "Python 3 (ipykernel)",
   "language": "python",
   "name": "python3"
  },
  "language_info": {
   "codemirror_mode": {
    "name": "ipython",
    "version": 3
   },
   "file_extension": ".py",
   "mimetype": "text/x-python",
   "name": "python",
   "nbconvert_exporter": "python",
   "pygments_lexer": "ipython3",
   "version": "3.9.12"
  }
 },
 "nbformat": 4,
 "nbformat_minor": 5
}
